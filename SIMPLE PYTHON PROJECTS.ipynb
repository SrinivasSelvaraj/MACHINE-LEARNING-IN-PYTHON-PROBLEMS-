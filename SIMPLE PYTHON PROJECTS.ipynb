{
  "nbformat": 4,
  "nbformat_minor": 0,
  "metadata": {
    "colab": {
      "provenance": [],
      "authorship_tag": "ABX9TyMgi0SDPz/TPAF17YowqmFK",
      "include_colab_link": true
    },
    "kernelspec": {
      "name": "python3",
      "display_name": "Python 3"
    }
  },
  "cells": [
    {
      "cell_type": "markdown",
      "metadata": {
        "id": "view-in-github",
        "colab_type": "text"
      },
      "source": [
        "<a href=\"https://colab.research.google.com/github/SrinivasSelvaraj/MACHINE-LEARNING-IN-PYTHON-PROBLEMS-/blob/main/SIMPLE%20PYTHON%20PROJECTS.ipynb\" target=\"_parent\"><img src=\"https://colab.research.google.com/assets/colab-badge.svg\" alt=\"Open In Colab\"/></a>"
      ]
    },
    {
      "cell_type": "code",
      "metadata": {
        "colab": {
          "base_uri": "https://localhost:8080/"
        },
        "id": "a_crMJQ9L2OO",
        "outputId": "ae557279-2dc4-4f8f-dce9-e6e64ef8d4d6"
      },
      "source": [
        "#1\n",
        "with open(\"/content/drive/MyDrive/presidency/subject/python/file 1.txt\")as file:\n",
        "  for l in file:\n",
        "    if l.lstrip()[0].isnumeric():\n",
        "      print(l,end=\"\")\n"
      ],
      "execution_count": null,
      "outputs": [
        {
          "output_type": "stream",
          "text": [
            "1.Happy new year\n",
            "2.From presidency university"
          ],
          "name": "stdout"
        }
      ]
    },
    {
      "cell_type": "code",
      "metadata": {
        "colab": {
          "base_uri": "https://localhost:8080/"
        },
        "id": "B1PM0d1QU59L",
        "outputId": "c3faefb2-72ad-4f25-a7c1-373becaeee83"
      },
      "source": [
        "#2\n",
        "file = open(\"/content/drive/MyDrive/Content/file 2.txt\")\n",
        "N=int(input('enter the n value'))\n",
        "for i in range(0,N):\n",
        "    line = file.readline()\n",
        "    print(line)\n"
      ],
      "execution_count": null,
      "outputs": [
        {
          "output_type": "stream",
          "text": [
            "enter the n value3\n",
            " hi everybody \n",
            "\n",
            "\n",
            "\n",
            "THIS IS SRINIVAS\n"
          ],
          "name": "stdout"
        }
      ]
    },
    {
      "cell_type": "code",
      "metadata": {
        "colab": {
          "base_uri": "https://localhost:8080/"
        },
        "id": "VOBaSeALZyno",
        "outputId": "992e90e8-fee4-4d50-f497-1273a591bbe0"
      },
      "source": [
        "#3\n",
        "fh1=open(\"/content/drive/MyDrive/Content/file3.txt\",\"r\")\n",
        "L=[]\n",
        "for x in fh1:\n",
        "     L.append(int(5))\n",
        "print(L)\n",
        "print(len(L))\n",
        "print(sum(L))\n",
        "print(min(L))\n",
        "print(max(L))"
      ],
      "execution_count": null,
      "outputs": [
        {
          "output_type": "stream",
          "text": [
            "[5, 5, 5, 5, 5, 5, 5, 5, 5]\n",
            "9\n",
            "45\n",
            "5\n",
            "5\n"
          ],
          "name": "stdout"
        }
      ]
    },
    {
      "cell_type": "code",
      "metadata": {
        "colab": {
          "base_uri": "https://localhost:8080/"
        },
        "id": "C7H9gZu9dlCJ",
        "outputId": "75ad2861-7df4-4636-90e4-04be8c9427f5"
      },
      "source": [
        "#4\n",
        "fh1=open(\"/content/drive/MyDrive/file4.txt\",\"r\")\n",
        "fh2=open(\"/content/drive/MyDrive/ file 4 summary file.txt\",\"w\")\n",
        "for x in fh1:\n",
        "  name=[]\n",
        "  temp=x.split(\" \")\n",
        "  print(temp)\n",
        "  total=0\n",
        "  name=\" \".join([text for text in temp if text.isalpha()])\n",
        "  for y in temp:\n",
        "    if y.isdigit():\n",
        "      total=total+int(y)\n",
        "  percentage=(total/500)*100\n",
        "  print(name,total,percentage,file=fh2)\n",
        "fh2.close()\n",
        "fh1.close()\n"
      ],
      "execution_count": null,
      "outputs": [
        {
          "output_type": "stream",
          "text": [
            "['JOHN', 'WESLEY', 'SOL', '56', '78', '90', '76', '92', '\\n']\n",
            "['SARA', 'JO', 'DAWN', '74', '95', '97', '89', '74', '', '\\n']\n",
            "['SRINIVAS', '86', '92', '98', '79', '99']\n"
          ],
          "name": "stdout"
        }
      ]
    },
    {
      "cell_type": "code",
      "metadata": {
        "colab": {
          "base_uri": "https://localhost:8080/"
        },
        "id": "Uzsfq7e0frdl",
        "outputId": "d5f1d489-7d2b-4bf0-85cc-34bec5d2ca74"
      },
      "source": [
        "#5\n",
        "d={}\n",
        "fh=open('/content/drive/MyDrive/ file 5 poem.txt','r')\n",
        "fh1=open('/content/drive/MyDrive/ file 5 poem.txt','r')\n",
        "s=fh1.readlines()\n",
        "f=fh.read()\n",
        "L=f.split()\n",
        "for word in L:\n",
        "  if word not in d:\n",
        "    d[word]=1  #MAKING A DICTIONARY\n",
        "  else:\n",
        "    d[word]=d[word]+1\n",
        "print(d)\n",
        "print(\"Number of lines:\",len(s))\n",
        "print(\"No of distinct words:\",len(d.keys()))\n",
        "\n"
      ],
      "execution_count": null,
      "outputs": [
        {
          "output_type": "stream",
          "text": [
            "{'johnny': 2, 'yes': 1, 'papa': 3, 'eating': 1, 'sugar': 1, 'no': 2, 'telling': 1, 'ies': 1, 'open': 1, 'ur': 1, 'mouth': 1, 'ha': 3}\n",
            "Number of lines: 4\n",
            "No of distinct words: 12\n"
          ],
          "name": "stdout"
        }
      ]
    },
    {
      "cell_type": "code",
      "metadata": {
        "colab": {
          "base_uri": "https://localhost:8080/"
        },
        "id": "xOREhv96gWw7",
        "outputId": "4630ae38-443b-42a7-ef9f-04274f9396d0"
      },
      "source": [
        "#6\n",
        "m,f,minc,finc=0,0,0,0\n",
        "with open('/content/drive/MyDrive/file 6.txt','r') as inc:\n",
        "    lines=inc.readlines()\n",
        "    for line in lines:\n",
        "        det=line.split()\n",
        "        if det[0]=='F': # COUNTING NO OF FEMALE\n",
        "            finc+=(int)(det[1])\n",
        "            f+=1\n",
        "        else:  # COUNTING NO OF MALE\n",
        "            minc+=(int)(det[1])\n",
        "            m+=1\n",
        "    mavg=minc/m #AVERAGE SALARY OF MALES\n",
        "    favg=finc/f #AVERAGE SALARY OF FEMALES\n",
        "    print(\"Average Female Income:\",favg)\n",
        "    print(\"Average Male Income:\",mavg)\n",
        "    print(\"Number of Males:\",m)\n",
        "    print(\"Number of Females:\",f)\n",
        "    with open(\"Inc_det.txt\",'x'):\n",
        "        with open(\"Inc_det.txt\",'w+') as op:\n",
        "            op.write(\"Average Female Income: \") #SAVING DETAILS IN OTHER FILE FOR LATER USE\n",
        "            op.write(str(favg))\n",
        "            op.write(\"\\nNumber of Females: \")\n",
        "            op.write(str(f))\n",
        "            op.write(\"\\nAverage Male Income: \")\n",
        "            op.write(str(mavg))\n",
        "            op.write(\"\\nNumber of Males: \")\n",
        "            op.write(str(m))\n"
      ],
      "execution_count": null,
      "outputs": [
        {
          "output_type": "stream",
          "text": [
            "Average Female Income: 10000.0\n",
            "Average Male Income: 16000.0\n",
            "Number of Males: 2\n",
            "Number of Females: 1\n"
          ],
          "name": "stdout"
        }
      ]
    },
    {
      "cell_type": "code",
      "metadata": {
        "colab": {
          "base_uri": "https://localhost:8080/"
        },
        "id": "rxL1M8Tkg3YE",
        "outputId": "533bc42f-a5f0-4768-e5a8-d6f61d1c30cc"
      },
      "source": [
        "#7\n",
        "try:\n",
        "  f1=open(\"/content/drive/MyDrive/file 7.txt\",\"r\")\n",
        "  a=f1.read()\n",
        "  f2=open(\"/content/drive/MyDrive/file 7.txt\",\"w\")\n",
        "  f2.write(a[::-1])\n",
        "except fileNotFoundError as e1:\n",
        "  print(e1)\n",
        "except IOError as e2:\n",
        "  print(e2)\n",
        "finally:\n",
        "  f1.close()\n",
        "  f2.close()\n",
        "print(\"success\")\n"
      ],
      "execution_count": null,
      "outputs": [
        {
          "output_type": "stream",
          "text": [
            "success\n"
          ],
          "name": "stdout"
        }
      ]
    },
    {
      "cell_type": "code",
      "metadata": {
        "colab": {
          "base_uri": "https://localhost:8080/"
        },
        "id": "fL31rdWRhO6g",
        "outputId": "d2bf71c2-10d8-45e9-d678-1f957c48b961"
      },
      "source": [
        "#8\n",
        "class STUDENT():\n",
        "   def print_total(self):\n",
        "       print(self.mark1+self.mark2+self.mark3+self.mark4+self.mark5)\n",
        "S=STUDENT()\n",
        "S.Name=input(\"Enter Name:\")\n",
        "S.Rollno=input(\"Enter Your Rollno:\")\n",
        "S.mark1=int(input(\"Enter marks of 1st subject:\"))\n",
        "S.mark2=int(input(\"Enter marks of 2nd subject:\"))\n",
        "S.mark3=int(input(\"Enter marks of 3rd subject:\"))\n",
        "S.mark4=int(input(\"Enter marks of 4th subject:\"))\n",
        "S.mark5=int(input(\"Enter marks of 5th subject:\"))\n",
        "print(\"Name of the student:\",S.Name)\n",
        "print(\"Roll number of the student:\",S.Rollno)\n",
        "S.print_total()\n",
        "print(\" is the total marks of \",S.Name)\n"
      ],
      "execution_count": null,
      "outputs": [
        {
          "output_type": "stream",
          "text": [
            "Enter Name:SRINIVAS\n",
            "Enter Your Rollno:20191COM0195\n",
            "Enter marks of 1st subject:88\n",
            "Enter marks of 2nd subject:95\n",
            "Enter marks of 3rd subject:75\n",
            "Enter marks of 4th subject:100\n",
            "Enter marks of 5th subject:86\n",
            "Name of the student: SRINIVAS\n",
            "Roll number of the student: 20191COM0195\n",
            "444\n",
            " is the total marks of  SRINIVAS\n"
          ],
          "name": "stdout"
        }
      ]
    },
    {
      "cell_type": "code",
      "metadata": {
        "colab": {
          "base_uri": "https://localhost:8080/"
        },
        "id": "7wGsjbjdjYFY",
        "outputId": "999138c8-b7ee-4148-864d-2fbbb38688aa"
      },
      "source": [
        "#9\n",
        "class student:\n",
        "  def __init__(self,name,id,branch,sem,m1,m2,m3):\n",
        "    self.name=name\n",
        "    self.id=id\n",
        "    self.branch=branch\n",
        "    self.sem=sem\n",
        "    self.m1=m1\n",
        "    self.m2=m2\n",
        "    self.m3=m3\n",
        "  def grade(self):\n",
        "    self.m1=m1\n",
        "    self.m2=m2\n",
        "    self.m3=m3\n",
        "    sum=self.m1+self.m2+self.m3\n",
        "    sum=sum/3\n",
        "    if sum>=90:\n",
        "      print(\"Distinction\")\n",
        "    elif sum>=80:\n",
        "      print(\"First Class\")\n",
        "    elif sum>=70:\n",
        "      priint(\"Second Class\")\n",
        "    elif sum>=60:\n",
        "      print(\"Third Class\")\n",
        "    else:\n",
        "      print(\"Fail\")\n",
        "#main function\n",
        "while 1:\n",
        "  x=int(input(\"enter your choice\\n1:adding student details\\n2:deleting studentdetails \\n3:printing student Grade\\n4:Exit\\n\"))\n",
        "  if x==1:\n",
        "    name=input(\"enter name\\t\")\n",
        "    id=input(\"enter id\\t\")\n",
        "    branch=input(\"enter branch\\t\")\n",
        "    sem=input(\"enter sem\\t\")\n",
        "    m1=float(input(\"enter marks1\\t\"))\n",
        "    m2=float(input(\"enter marks2\\t\"))\n",
        "    m3=float(input(\"enter marks3\\t\"))\n",
        "    student1=student(name,id,branch,sem,m1,m2,m3)\n",
        "  elif x==2:\n",
        "   del student1\n",
        "  elif x==3:\n",
        "   print(\"Grade of student  \",student1.name,student1.grade())\n",
        "  elif x==4:\n",
        "   break\n"
      ],
      "execution_count": null,
      "outputs": [
        {
          "output_type": "stream",
          "text": [
            "enter your choice\n",
            "1:adding student details\n",
            "2:deleting studentdetails \n",
            "3:printing student Grade\n",
            "4:Exit\n",
            "1\n",
            "enter name\tSRINIVAS\n",
            "enter id\t20191COM0195\n",
            "enter branch\t4\n",
            "enter sem\t85\n",
            "enter marks1\t65\n",
            "enter marks2\t45\n",
            "enter marks3\t95\n",
            "enter your choice\n",
            "1:adding student details\n",
            "2:deleting studentdetails \n",
            "3:printing student Grade\n",
            "4:Exit\n",
            "3\n",
            "Third Class\n",
            "Grade of student   SRINIVAS None\n",
            "enter your choice\n",
            "1:adding student details\n",
            "2:deleting studentdetails \n",
            "3:printing student Grade\n",
            "4:Exit\n",
            "4\n"
          ],
          "name": "stdout"
        }
      ]
    },
    {
      "cell_type": "code",
      "metadata": {
        "id": "uLPbvAfnkFzn"
      },
      "source": [
        "\n",
        "#10\n",
        "class Person:\n",
        "  def __init__(self,Name,id,address,mobile_number,CGPA):\n",
        "    self.Name=Name\n",
        "    self.id=id\n",
        "    self.address=address\n",
        "    self.mobile_number=mobile_number\n",
        "    self.CGPA=CGPA\n",
        "class Student(Person):\n",
        "   def __init__(self):\n",
        "     Person.__init__(self,Name,id,address,mobile_number,CGPA)\n",
        "Name=input(\"Enter your name:\")\n",
        "id=input(\"Enter Your id:\")\n",
        "CGPA=float(input(\"Enter your CGPA:\"))\n",
        "address=input(\"Enter Your address:\")\n",
        "mobile_number=int(input(\"Enter Your Mobile Number:\"))\n",
        "S=Student()\n",
        "print(\"\\t\\t #Student Details# \\t\\t\")\n",
        "print(\"Name of the Student:\",S.Name)\n",
        "print(\"id number of the student:\",S.id)\n",
        "print(\"CGPA of the student:\",S.CGPA)\n",
        "print(\"Address of the student:\",S.address)\n",
        "print(\"Mobile number:\",S.mobile_number)\n"
      ],
      "execution_count": null,
      "outputs": []
    },
    {
      "cell_type": "code",
      "metadata": {
        "id": "XocD4VrUkoTr"
      },
      "source": [],
      "execution_count": null,
      "outputs": []
    }
  ]
}