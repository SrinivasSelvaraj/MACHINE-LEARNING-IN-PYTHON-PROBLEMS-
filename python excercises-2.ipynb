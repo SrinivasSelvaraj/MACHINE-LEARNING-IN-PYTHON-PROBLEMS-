{
  "nbformat": 4,
  "nbformat_minor": 0,
  "metadata": {
    "colab": {
      "provenance": [],
      "authorship_tag": "ABX9TyNoRUHr1tDIsz3scZwS94Cy",
      "include_colab_link": true
    },
    "kernelspec": {
      "name": "python3",
      "display_name": "Python 3"
    },
    "language_info": {
      "name": "python"
    }
  },
  "cells": [
    {
      "cell_type": "markdown",
      "metadata": {
        "id": "view-in-github",
        "colab_type": "text"
      },
      "source": [
        "<a href=\"https://colab.research.google.com/github/SrinivasSelvaraj/MACHINE-LEARNING-IN-PYTHON-PROBLEMS-/blob/main/python%20excercises-2.ipynb\" target=\"_parent\"><img src=\"https://colab.research.google.com/assets/colab-badge.svg\" alt=\"Open In Colab\"/></a>"
      ]
    },
    {
      "cell_type": "code",
      "metadata": {
        "id": "IgUcrSWaOFtZ"
      },
      "source": [],
      "execution_count": null,
      "outputs": []
    },
    {
      "cell_type": "code",
      "metadata": {
        "colab": {
          "base_uri": "https://localhost:8080/"
        },
        "id": "6NdRBgEJYE9m",
        "outputId": "e4485816-88b0-4bfd-e6e9-a3905640d600"
      },
      "source": [
        "#1\n",
        "n=int(input('Enter a number'))\n",
        "d=dict()\n",
        "for i in range(1,n+1):\n",
        "  d[i]=i*i\n",
        "print(d)\n"
      ],
      "execution_count": null,
      "outputs": [
        {
          "output_type": "stream",
          "name": "stdout",
          "text": [
            "Enter a number5\n",
            "{1: 1, 2: 4, 3: 9, 4: 16, 5: 25}\n"
          ]
        }
      ]
    },
    {
      "cell_type": "code",
      "metadata": {
        "colab": {
          "base_uri": "https://localhost:8080/"
        },
        "id": "hqoyvN8nYwcl",
        "outputId": "7ee5288c-7d18-49e7-9e50-03722c13b845"
      },
      "source": [
        "#2\n",
        "temps={}\n",
        "temp_list=[]\n",
        "for i in range(2):\n",
        "  temp2=[]\n",
        "  day=input(\"enter a day-sun,mon,tue,wed,thur,fri or sat\")\n",
        "  t=float(input(\"enter a temperature\"))\n",
        "  temp2.append(day)\n",
        "  temp2.append(t)\n",
        "  temp_list.append(temp2)\n",
        "print(temp_list)\n",
        "temps=dict(temp_list)\n",
        "print(temps)\n",
        "\n",
        "day=input('enter a day to add')\n",
        "if day in temps:\n",
        "  print('day already exists')\n",
        "else:\n",
        "  temps[day]=float(input('enter a temp'))\n",
        "print('updated temperature:',temps)\n",
        "print(temps)"
      ],
      "execution_count": null,
      "outputs": [
        {
          "output_type": "stream",
          "name": "stdout",
          "text": [
            "enter a day-sun,mon,tue,wed,thur,fri or sat sun,mon,tue,wed,thur,fri or sat\n",
            "enter a temperature25.2\n",
            "enter a day-sun,mon,tue,wed,thur,fri or satsun,mon,tue,wed,thur,fri or sat\n",
            "enter a temperature42\n",
            "[[' sun,mon,tue,wed,thur,fri or sat', 25.2], ['sun,mon,tue,wed,thur,fri or sat', 42.0]]\n",
            "{' sun,mon,tue,wed,thur,fri or sat': 25.2, 'sun,mon,tue,wed,thur,fri or sat': 42.0}\n",
            "enter a day to addwed\n",
            "enter a temp42\n",
            "updated temperature: {' sun,mon,tue,wed,thur,fri or sat': 25.2, 'sun,mon,tue,wed,thur,fri or sat': 42.0, 'wed': 42.0}\n",
            "{' sun,mon,tue,wed,thur,fri or sat': 25.2, 'sun,mon,tue,wed,thur,fri or sat': 42.0, 'wed': 42.0}\n"
          ]
        }
      ]
    },
    {
      "cell_type": "code",
      "metadata": {
        "colab": {
          "base_uri": "https://localhost:8080/"
        },
        "id": "OL1xi7sCarqr",
        "outputId": "ac070204-f447-4b49-f07f-af283663f328"
      },
      "source": [
        "#3\n",
        "temps={'sun':75.6,'mon':73.3,'tue':69.5,'wed':75.4,'thur':72.3,'fri':78.9,'sat':76.4}\n",
        "l=[]\n",
        "for day in temps:\n",
        "  print(day)\n",
        "  t=temps[day]\n",
        "  if t>=70 and t<=79:\n",
        "    l.append(day)\n",
        "print(l)"
      ],
      "execution_count": null,
      "outputs": [
        {
          "output_type": "stream",
          "name": "stdout",
          "text": [
            "sun\n",
            "mon\n",
            "tue\n",
            "wed\n",
            "thur\n",
            "fri\n",
            "sat\n",
            "['sun', 'mon', 'wed', 'thur', 'fri', 'sat']\n"
          ]
        }
      ]
    },
    {
      "cell_type": "code",
      "metadata": {
        "colab": {
          "base_uri": "https://localhost:8080/"
        },
        "id": "zm13eWtNcC75",
        "outputId": "ddf6234b-8e68-4523-8654-1bea46a015dc"
      },
      "source": [
        "#4\n",
        "d={'even':0,'odd':1}\n",
        "while(1):\n",
        "  x=int(input(\"Enter the number\"))\n",
        "  if x==-1:\n",
        "    break\n",
        "  if(x%2==0):\n",
        "    d['even']=d['even']+1\n",
        "  else:\n",
        "    d['odd']=d['odd']+1\n",
        "  print(d)"
      ],
      "execution_count": null,
      "outputs": [
        {
          "name": "stdout",
          "output_type": "stream",
          "text": [
            "Enter the number 20\n",
            "{'even': 1, 'odd': 1}\n",
            "Enter the number15\n",
            "{'even': 1, 'odd': 2}\n",
            "Enter the number-23\n",
            "{'even': 1, 'odd': 3}\n",
            "Enter the number-1\n"
          ]
        }
      ]
    },
    {
      "cell_type": "code",
      "metadata": {
        "colab": {
          "base_uri": "https://localhost:8080/"
        },
        "id": "1YWQukOseM5e",
        "outputId": "4a66b505-007d-4a28-9545-dc82169f7c7b"
      },
      "source": [
        "#5\n",
        "d={0:[],1:[],2:[],3:[],4:[],5:[],6:[],7:[],8:[],}\n",
        "while(1):\n",
        "  x=int(input('Enter the value of n'))\n",
        "  if x==-1:\n",
        "    break\n",
        "  else:\n",
        "    key=x%9\n",
        "    d[key].append(x)\n",
        "print(d)"
      ],
      "execution_count": null,
      "outputs": [
        {
          "output_type": "stream",
          "name": "stdout",
          "text": [
            "Enter the value of n5\n",
            "Enter the value of n13\n",
            "Enter the value of n12\n",
            "Enter the value of n-1\n",
            "{0: [], 1: [], 2: [], 3: [12], 4: [13], 5: [5], 6: [], 7: [], 8: []}\n"
          ]
        }
      ]
    },
    {
      "cell_type": "code",
      "metadata": {
        "id": "Mg3WxwAveoft",
        "colab": {
          "base_uri": "https://localhost:8080/"
        },
        "outputId": "742af1d7-9c25-4df0-d48b-c32014e23487"
      },
      "source": [
        "#6\n",
        "import operator\n",
        "students = eval(input(\"Enter the IDNO and MARK of each student as a {}\"))\n",
        "print(\"The student dictionary is\", students)\n",
        "print(\"The number of students are\",len(students))\n",
        "\n",
        "#to find class average\n",
        "sum=0\n",
        "for k in students:\n",
        "        sum = sum + students[k]\n",
        "class_average = sum/len(students)\n",
        "print(\"The class average is =\",class_average)\n",
        "\n",
        "#to find no. of students above class average\n",
        "count=0\n",
        "for k in students:\n",
        "        if students[k] > class_average:\n",
        "            count = count + 1\n",
        "print(\"The number of students above class average is\", count)\n",
        "\n",
        "#to find the topper of the class\n",
        "out = sorted(students.items(), key = operator.itemgetter(1), reverse = 1)\n",
        "topper = out[0][0]\n",
        "print(\"The Topper of the class is\",topper)\n",
        "\n",
        "#to implement recheck\n",
        "recheck_name = input(\"Who has applied for recheck?\")\n",
        "new_mark = int(input(\"What is the new mark?\"))\n",
        "\n",
        "students[recheck_name] = new_mark\n",
        "print(\"The dictionary after rechecks is\",students)"
      ],
      "execution_count": null,
      "outputs": [
        {
          "output_type": "stream",
          "name": "stdout",
          "text": [
            "Enter the IDNO and MARK of each student as a {}{'srini':20,'Kumar':18,'srinivasa':20}\n",
            "The student dictionary is {'srini': 20, 'Kumar': 18, 'srinivasa': 20}\n",
            "The number of students are 3\n",
            "The class average is = 19.333333333333332\n",
            "The number of students above class average is 2\n",
            "The Topper of the class is srini\n",
            "Who has applied for recheck?srini\n",
            "What is the new mark?25\n",
            "The dictionary after rechecks is {'srini': 25, 'Kumar': 18, 'srinivasa': 20}\n"
          ]
        }
      ]
    },
    {
      "cell_type": "code",
      "metadata": {
        "id": "Fc7GIsGbDQqz",
        "colab": {
          "base_uri": "https://localhost:8080/"
        },
        "outputId": "44bdc054-b408-4749-a64a-305266d3aa11"
      },
      "source": [
        "#7\n",
        "keys=['a','b','c']\n",
        "values=[1,2,3]\n",
        "{i:j for (i,j) in zip(keys, values)}"
      ],
      "execution_count": null,
      "outputs": [
        {
          "output_type": "execute_result",
          "data": {
            "text/plain": [
              "{'a': 1, 'b': 2, 'c': 3}"
            ]
          },
          "metadata": {},
          "execution_count": 11
        }
      ]
    },
    {
      "cell_type": "code",
      "metadata": {
        "id": "4cpNuR0UDSke",
        "colab": {
          "base_uri": "https://localhost:8080/"
        },
        "outputId": "0a5b905a-6124-4226-fd55-c5d2785f4a91"
      },
      "source": [
        "#8\n",
        "keys=['a','b','c']\n",
        "values=[1,2,3]\n",
        "d=dict(zip(keys,values))\n",
        "d"
      ],
      "execution_count": null,
      "outputs": [
        {
          "output_type": "execute_result",
          "data": {
            "text/plain": [
              "{'a': 1, 'b': 2, 'c': 3}"
            ]
          },
          "metadata": {},
          "execution_count": 12
        }
      ]
    }
  ]
}