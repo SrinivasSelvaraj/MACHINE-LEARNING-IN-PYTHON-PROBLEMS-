{
  "nbformat": 4,
  "nbformat_minor": 0,
  "metadata": {
    "colab": {
      "provenance": [],
      "authorship_tag": "ABX9TyP7+U9BVUqqYrZF54fW2Bf+"
    },
    "kernelspec": {
      "name": "python3",
      "display_name": "Python 3"
    },
    "language_info": {
      "name": "python"
    }
  },
  "cells": [
    {
      "cell_type": "code",
      "metadata": {
        "colab": {
          "base_uri": "https://localhost:8080/"
        },
        "id": "yMJYKk3NJcam",
        "outputId": "172dc7e6-e344-4404-bb9f-24eefb44a31c"
      },
      "source": [
        "#1\n",
        "t=()\n",
        "t"
      ],
      "execution_count": null,
      "outputs": [
        {
          "output_type": "execute_result",
          "data": {
            "text/plain": [
              "()"
            ]
          },
          "metadata": {},
          "execution_count": 2
        }
      ]
    },
    {
      "cell_type": "code",
      "metadata": {
        "colab": {
          "base_uri": "https://localhost:8080/"
        },
        "id": "3oP1lbJWKKvc",
        "outputId": "876eee79-c173-4518-ec12-0764e8344157"
      },
      "source": [
        "#2\n",
        "t=(\"Anaconda\",34,56.99)\n",
        "t"
      ],
      "execution_count": null,
      "outputs": [
        {
          "output_type": "execute_result",
          "data": {
            "text/plain": [
              "('Anaconda', 34, 56.99)"
            ]
          },
          "metadata": {},
          "execution_count": 3
        }
      ]
    },
    {
      "cell_type": "code",
      "metadata": {
        "colab": {
          "base_uri": "https://localhost:8080/"
        },
        "id": "llnkG5m-KMiW",
        "outputId": "35dd5f87-a4ca-4422-9318-db0c8277c3e3"
      },
      "source": [
        "#3\n",
        "age=[]\n",
        "while(1):\n",
        "  a=int(input(\"Enter the age of person\"))\n",
        "  if a<0:\n",
        "    break\n",
        "  else:\n",
        "    age.append(a)\n",
        "T=tuple(age)\n",
        "T"
      ],
      "execution_count": null,
      "outputs": [
        {
          "name": "stdout",
          "output_type": "stream",
          "text": [
            "Enter the age of person4\n",
            "Enter the age of person45\n",
            "Enter the age of person56\n",
            "Enter the age of person78\n",
            "Enter the age of person77\n",
            "Enter the age of person88\n",
            "Enter the age of person99\n",
            "Enter the age of person0\n",
            "Enter the age of person1\n",
            "Enter the age of person1\n",
            "Enter the age of person1\n",
            "Enter the age of person1\n",
            "Enter the age of person1\n",
            "Enter the age of person1\n",
            "Enter the age of person1\n",
            "Enter the age of person1\n",
            "Enter the age of person0\n",
            "Enter the age of person-9\n"
          ]
        },
        {
          "output_type": "execute_result",
          "data": {
            "text/plain": [
              "(4, 45, 56, 78, 77, 88, 99, 0, 1, 1, 1, 1, 1, 1, 1, 1, 0)"
            ]
          },
          "metadata": {},
          "execution_count": 4
        }
      ]
    },
    {
      "cell_type": "code",
      "metadata": {
        "colab": {
          "base_uri": "https://localhost:8080/"
        },
        "id": "Q1playwMKOEW",
        "outputId": "4d73d5bb-2744-45d3-8793-184a44a7f155"
      },
      "source": [
        "#2nd method\n",
        "t=()\n",
        "while(1):\n",
        "  a=int(input(\"Enter the age of person\"))\n",
        "  if a<0:\n",
        "    break\n",
        "  else:\n",
        "    t=t+(a,)\n",
        "t"
      ],
      "execution_count": null,
      "outputs": [
        {
          "name": "stdout",
          "output_type": "stream",
          "text": [
            "Enter the age of person-9\n"
          ]
        },
        {
          "output_type": "execute_result",
          "data": {
            "text/plain": [
              "()"
            ]
          },
          "metadata": {},
          "execution_count": 5
        }
      ]
    },
    {
      "cell_type": "code",
      "metadata": {
        "colab": {
          "base_uri": "https://localhost:8080/"
        },
        "id": "1kmmWvqrKkrp",
        "outputId": "770aa6e0-ee87-4219-84b3-284aec7b18e8"
      },
      "source": [
        "#4\n",
        "t=(0,1,2,3,4,5,6,7,8,9)\n",
        "t=t[:4]+(42,65,75.75)+t[4:]\n",
        "t"
      ],
      "execution_count": null,
      "outputs": [
        {
          "output_type": "execute_result",
          "data": {
            "text/plain": [
              "(0, 1, 2, 3, 42, 65, 75.75, 4, 5, 6, 7, 8, 9)"
            ]
          },
          "metadata": {},
          "execution_count": 6
        }
      ]
    },
    {
      "cell_type": "code",
      "metadata": {
        "colab": {
          "base_uri": "https://localhost:8080/"
        },
        "id": "YC4A6qGYKuik",
        "outputId": "2878e70a-e6cf-446f-bc29-17ad3744463c"
      },
      "source": [
        "#5\n",
        "t=()\n",
        "while(1):\n",
        "  a=input(\"Enter the name of person\")\n",
        "  if a==\"AAA\":\n",
        "    break\n",
        "  else:\n",
        "    t=t+(a,)\n",
        "print(t)\n",
        "unique=[]\n",
        "for i in t:\n",
        "  if i not in unique:\n",
        "    unique.append(i)\n",
        "    print(\"The name of{0} occurs{1}times in the input\".format(i,t.count(i)))"
      ],
      "execution_count": null,
      "outputs": [
        {
          "output_type": "stream",
          "name": "stdout",
          "text": [
            "Enter the name of personSRII\n",
            "Enter the name of personSRII\n",
            "Enter the name of personKUMAR\n",
            "Enter the name of person0\n",
            "Enter the name of personsRII\n",
            "Enter the name of personsrii\n",
            "Enter the name of personSRII\n",
            "Enter the name of person-0\n",
            "Enter the name of personaaa\n",
            "Enter the name of personSREEE\n",
            "Enter the name of personAAA\n",
            "('SRII', 'SRII', 'KUMAR', '0', 'sRII', 'srii', 'SRII', '-0', 'aaa', 'SREEE')\n",
            "The name ofSRII occurs3times in the input\n",
            "The name ofKUMAR occurs1times in the input\n",
            "The name of0 occurs1times in the input\n",
            "The name ofsRII occurs1times in the input\n",
            "The name ofsrii occurs1times in the input\n",
            "The name of-0 occurs1times in the input\n",
            "The name ofaaa occurs1times in the input\n",
            "The name ofSREEE occurs1times in the input\n"
          ]
        }
      ]
    },
    {
      "cell_type": "code",
      "metadata": {
        "colab": {
          "base_uri": "https://localhost:8080/"
        },
        "id": "N9M9LN15KxJ-",
        "outputId": "58a04945-097e-4025-d9fc-b53a52931746"
      },
      "source": [
        "#6\n",
        "import statistics\n",
        "from statistics import mode\n",
        "t=()\n",
        "while(1):\n",
        "  a=input(\"Enter the name of person\")\n",
        "  if a==\"AAA\":\n",
        "    break\n",
        "  else:\n",
        "    t=t+(a,)\n",
        "print(\"The most frequent name is\",mode(t))"
      ],
      "execution_count": null,
      "outputs": [
        {
          "output_type": "stream",
          "name": "stdout",
          "text": [
            "Enter the name of person SRINI\n",
            "Enter the name of person FILKO\n",
            "Enter the name of personKINGI\n",
            "Enter the name of personAAA\n",
            "The most frequent name is  SRINI\n"
          ]
        }
      ]
    },
    {
      "cell_type": "code",
      "metadata": {
        "id": "iGifEdUJLApW"
      },
      "source": [
        "#7\n",
        "import statistics\n",
        "from statistics import mode\n",
        "t=()\n",
        "while(1):\n",
        "  a=input(\"Enter the name of person\")\n",
        "  if a==\"AAA\":\n",
        "    break\n",
        "  else:\n",
        "    t=t+(a,)\n",
        "removed=input(print(\"Enter the name to be removed\"))\n",
        "for i in range(len(t)):\n",
        "  if t[i]==removed:\n",
        "    t=t[:i]+t[i+1:]\n",
        "    break\n",
        "print(\"The list after removing the items\",removed,t)"
      ],
      "execution_count": null,
      "outputs": []
    },
    {
      "cell_type": "code",
      "metadata": {
        "id": "1jgI7bNCLzAI"
      },
      "source": [
        "#8\n",
        "shopping_list=[]\n",
        "item=()\n",
        "while(1):\n",
        "  a=eval(input(\"Enter the name and quantity of an item as ()\"))\n",
        "  if a==():\n",
        "    break\n",
        "  else:\n",
        "    shopping_list.append(a)\n",
        "print(\"The shopping list is \",shopping_list)"
      ],
      "execution_count": null,
      "outputs": []
    },
    {
      "cell_type": "code",
      "metadata": {
        "id": "pAktYmADL86a"
      },
      "source": [
        "#9\n",
        "l=[]\n",
        "while(1):\n",
        "  a=eval(input(\"Enter the name and weight of each fruit as () :\"))\n",
        "  if a==():\n",
        "    break\n",
        "  else:\n",
        "    l.append(a)\n",
        "print(\"The Fruit list is \",l)\n",
        "l.sort()\n",
        "print(\"The sorted list is \",l)"
      ],
      "execution_count": null,
      "outputs": []
    },
    {
      "cell_type": "code",
      "metadata": {
        "id": "PaVVlI_3lTIc"
      },
      "source": [
        "#10\n",
        "import operator\n",
        "l=[]\n",
        "item=()\n",
        "while(1):\n",
        "  a=eval(input(\"Enter the name and weight of each fruit as () :\"))\n",
        "  if a==():\n",
        "    break\n",
        "  else:\n",
        "    l.append(a)\n",
        "print(\"The Fruit list is \",l)\n",
        "sorted_list=sorted(l,key=operator.itemgetter(1))\n",
        "print(\"The sorted list is \",sorted_list)"
      ],
      "execution_count": null,
      "outputs": []
    },
    {
      "cell_type": "code",
      "metadata": {
        "id": "YCM0Q0X4TJvL"
      },
      "source": [
        "#10\n",
        "import operator\n",
        "l=[]\n",
        "item=()\n",
        "while(1):\n",
        "  a=eval(input(\"Enter the name and weight of each fruit as () :\"))\n",
        "  if a==():\n",
        "    break\n",
        "  else:\n",
        "    l.append(a)\n",
        "print(\"The Fruit list is \",l)\n",
        "sorted_list=sorted(l,key=operator.itemgetter(1),reverse=1)\n",
        "print(\"The sorted list is \",sorted_list)"
      ],
      "execution_count": null,
      "outputs": []
    }
  ]
}