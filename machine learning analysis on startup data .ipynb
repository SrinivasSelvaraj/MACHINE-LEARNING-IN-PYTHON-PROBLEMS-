{
  "nbformat": 4,
  "nbformat_minor": 0,
  "metadata": {
    "colab": {
      "provenance": [],
      "authorship_tag": "ABX9TyNHQaR4n7VOf5zNX9Kfhe10",
      "include_colab_link": true
    },
    "kernelspec": {
      "name": "python3",
      "display_name": "Python 3"
    },
    "language_info": {
      "name": "python"
    }
  },
  "cells": [
    {
      "cell_type": "markdown",
      "metadata": {
        "id": "view-in-github",
        "colab_type": "text"
      },
      "source": [
        "<a href=\"https://colab.research.google.com/github/SrinivasSelvaraj/MACHINE-LEARNING-IN-PYTHON-PROBLEMS-/blob/main/machine%20learning%20analysis%20on%20startup%20data%20.ipynb\" target=\"_parent\"><img src=\"https://colab.research.google.com/assets/colab-badge.svg\" alt=\"Open In Colab\"/></a>"
      ]
    },
    {
      "cell_type": "markdown",
      "metadata": {
        "id": "7hcv8ZjIYxfS"
      },
      "source": [
        " 1 LOAD THE STARTUPS DATA SETS"
      ]
    },
    {
      "cell_type": "code",
      "metadata": {
        "colab": {
          "base_uri": "https://localhost:8080/"
        },
        "id": "GSbtYEaPrzlY",
        "outputId": "a000b8cb-4a16-4702-b095-f88023a31173"
      },
      "source": [
        "import pandas as pd\n",
        "startups_df = pd.read_csv(\"/content/50_Startups.csv\")\n",
        "startups_df.info()\n",
        "startups_df.shape\n"
      ],
      "execution_count": null,
      "outputs": [
        {
          "output_type": "stream",
          "name": "stdout",
          "text": [
            "<class 'pandas.core.frame.DataFrame'>\n",
            "RangeIndex: 50 entries, 0 to 49\n",
            "Data columns (total 5 columns):\n",
            " #   Column           Non-Null Count  Dtype  \n",
            "---  ------           --------------  -----  \n",
            " 0   R&D Spend        50 non-null     float64\n",
            " 1   Administration   50 non-null     float64\n",
            " 2   Marketing Spend  50 non-null     float64\n",
            " 3   State            50 non-null     object \n",
            " 4   Profit           50 non-null     float64\n",
            "dtypes: float64(4), object(1)\n",
            "memory usage: 2.1+ KB\n"
          ]
        },
        {
          "output_type": "execute_result",
          "data": {
            "text/plain": [
              "(50, 5)"
            ]
          },
          "metadata": {},
          "execution_count": 2
        }
      ]
    },
    {
      "cell_type": "markdown",
      "metadata": {
        "id": "lhqGLn1QsxHh"
      },
      "source": [
        "2. Display the initial 10 columns for the first 5 records"
      ]
    },
    {
      "cell_type": "code",
      "metadata": {
        "colab": {
          "base_uri": "https://localhost:8080/",
          "height": 206
        },
        "id": "rtOFLyiGsuiA",
        "outputId": "b0c14dc4-2703-4891-ff98-2b72f70a8bbf"
      },
      "source": [
        " startups_df.iloc[0:5, 0:10]"
      ],
      "execution_count": null,
      "outputs": [
        {
          "output_type": "execute_result",
          "data": {
            "text/html": [
              "<div>\n",
              "<style scoped>\n",
              "    .dataframe tbody tr th:only-of-type {\n",
              "        vertical-align: middle;\n",
              "    }\n",
              "\n",
              "    .dataframe tbody tr th {\n",
              "        vertical-align: top;\n",
              "    }\n",
              "\n",
              "    .dataframe thead th {\n",
              "        text-align: right;\n",
              "    }\n",
              "</style>\n",
              "<table border=\"1\" class=\"dataframe\">\n",
              "  <thead>\n",
              "    <tr style=\"text-align: right;\">\n",
              "      <th></th>\n",
              "      <th>R&amp;D Spend</th>\n",
              "      <th>Administration</th>\n",
              "      <th>Marketing Spend</th>\n",
              "      <th>State</th>\n",
              "      <th>Profit</th>\n",
              "    </tr>\n",
              "  </thead>\n",
              "  <tbody>\n",
              "    <tr>\n",
              "      <th>0</th>\n",
              "      <td>165349.20</td>\n",
              "      <td>136897.80</td>\n",
              "      <td>471784.10</td>\n",
              "      <td>New York</td>\n",
              "      <td>192261.83</td>\n",
              "    </tr>\n",
              "    <tr>\n",
              "      <th>1</th>\n",
              "      <td>162597.70</td>\n",
              "      <td>151377.59</td>\n",
              "      <td>443898.53</td>\n",
              "      <td>California</td>\n",
              "      <td>191792.06</td>\n",
              "    </tr>\n",
              "    <tr>\n",
              "      <th>2</th>\n",
              "      <td>153441.51</td>\n",
              "      <td>101145.55</td>\n",
              "      <td>407934.54</td>\n",
              "      <td>Florida</td>\n",
              "      <td>191050.39</td>\n",
              "    </tr>\n",
              "    <tr>\n",
              "      <th>3</th>\n",
              "      <td>144372.41</td>\n",
              "      <td>118671.85</td>\n",
              "      <td>383199.62</td>\n",
              "      <td>New York</td>\n",
              "      <td>182901.99</td>\n",
              "    </tr>\n",
              "    <tr>\n",
              "      <th>4</th>\n",
              "      <td>142107.34</td>\n",
              "      <td>91391.77</td>\n",
              "      <td>366168.42</td>\n",
              "      <td>Florida</td>\n",
              "      <td>166187.94</td>\n",
              "    </tr>\n",
              "  </tbody>\n",
              "</table>\n",
              "</div>"
            ],
            "text/plain": [
              "   R&D Spend  Administration  Marketing Spend       State     Profit\n",
              "0  165349.20       136897.80        471784.10    New York  192261.83\n",
              "1  162597.70       151377.59        443898.53  California  191792.06\n",
              "2  153441.51       101145.55        407934.54     Florida  191050.39\n",
              "3  144372.41       118671.85        383199.62    New York  182901.99\n",
              "4  142107.34        91391.77        366168.42     Florida  166187.94"
            ]
          },
          "metadata": {},
          "execution_count": 3
        }
      ]
    },
    {
      "cell_type": "markdown",
      "metadata": {
        "id": "aWLyDkvXtHRw"
      },
      "source": [
        "3. Use only the following features to predict The profit."
      ]
    },
    {
      "cell_type": "code",
      "metadata": {
        "colab": {
          "base_uri": "https://localhost:8080/"
        },
        "id": "kr36w5Tctu-f",
        "outputId": "f1f2698c-c9f8-4001-eb2a-42a13f8ff457"
      },
      "source": [
        "print(startups_df.columns)"
      ],
      "execution_count": null,
      "outputs": [
        {
          "output_type": "stream",
          "name": "stdout",
          "text": [
            "Index(['R&D Spend', 'Administration', 'Marketing Spend', 'State', 'Profit'], dtype='object')\n"
          ]
        }
      ]
    },
    {
      "cell_type": "code",
      "metadata": {
        "colab": {
          "base_uri": "https://localhost:8080/"
        },
        "id": "Ke2kbuCPuGpQ",
        "outputId": "60dc4b78-c12c-4dfb-cb4d-e9d3bf383751"
      },
      "source": [
        "X_features = ['R&D Spend', 'Administration', 'Marketing Spend', 'State', 'Profit']\n",
        "print(X_features)"
      ],
      "execution_count": null,
      "outputs": [
        {
          "output_type": "stream",
          "name": "stdout",
          "text": [
            "['R&D Spend', 'Administration', 'Marketing Spend', 'State', 'Profit']\n"
          ]
        }
      ]
    },
    {
      "cell_type": "markdown",
      "metadata": {
        "id": "Hg6t9PLhud4n"
      },
      "source": [
        "4. Some of these features are categorical. So encode them using one-hot encoding. A categorical feature with k values is encoded using (k-1) binary/dummy features."
      ]
    },
    {
      "cell_type": "code",
      "metadata": {
        "colab": {
          "base_uri": "https://localhost:8080/"
        },
        "id": "jFsRwTx4uXqu",
        "outputId": "ff93fc8f-2061-4912-f0ae-882014ee12bc"
      },
      "source": [
        "categorical_features = ['State']\n",
        "startups_encoded_df = pd.get_dummies(startups_df[X_features], columns=categorical_features, drop_first = True)\n",
        "X_features = startups_encoded_df.columns\n",
        "print(X_features)"
      ],
      "execution_count": null,
      "outputs": [
        {
          "output_type": "stream",
          "name": "stdout",
          "text": [
            "Index(['R&D Spend', 'Administration', 'Marketing Spend', 'Profit',\n",
            "       'State_Florida', 'State_New York'],\n",
            "      dtype='object')\n"
          ]
        }
      ]
    },
    {
      "cell_type": "markdown",
      "metadata": {
        "id": "eHHuZh-wv0FN"
      },
      "source": [
        "5. Add the constant column to estimate Beta 0 using statsmodel library. Split the dataset into Train and Validation Sets"
      ]
    },
    {
      "cell_type": "code",
      "metadata": {
        "colab": {
          "base_uri": "https://localhost:8080/"
        },
        "id": "FEng7HFqvBBP",
        "outputId": "2c5f524e-b240-48ba-e1f7-9841e40be201"
      },
      "source": [
        "import statsmodels.api as sm\n",
        "from sklearn.model_selection import train_test_split\n",
        "X = sm.add_constant(startups_encoded_df)\n",
        "Y = startups_df['Profit']\n",
        "print(X)\n",
        "\n",
        "train_X, test_X, train_y, test_y = train_test_split(X,Y,train_size = 0.8, random_state = 50)"
      ],
      "execution_count": null,
      "outputs": [
        {
          "output_type": "stream",
          "name": "stderr",
          "text": [
            "/usr/local/lib/python3.7/dist-packages/statsmodels/tools/_testing.py:19: FutureWarning: pandas.util.testing is deprecated. Use the functions in the public API at pandas.testing instead.\n",
            "  import pandas.util.testing as tm\n"
          ]
        },
        {
          "output_type": "stream",
          "name": "stdout",
          "text": [
            "    const  R&D Spend  Administration  ...     Profit  State_Florida  State_New York\n",
            "0     1.0  165349.20       136897.80  ...  192261.83              0               1\n",
            "1     1.0  162597.70       151377.59  ...  191792.06              0               0\n",
            "2     1.0  153441.51       101145.55  ...  191050.39              1               0\n",
            "3     1.0  144372.41       118671.85  ...  182901.99              0               1\n",
            "4     1.0  142107.34        91391.77  ...  166187.94              1               0\n",
            "5     1.0  131876.90        99814.71  ...  156991.12              0               1\n",
            "6     1.0  134615.46       147198.87  ...  156122.51              0               0\n",
            "7     1.0  130298.13       145530.06  ...  155752.60              1               0\n",
            "8     1.0  120542.52       148718.95  ...  152211.77              0               1\n",
            "9     1.0  123334.88       108679.17  ...  149759.96              0               0\n",
            "10    1.0  101913.08       110594.11  ...  146121.95              1               0\n",
            "11    1.0  100671.96        91790.61  ...  144259.40              0               0\n",
            "12    1.0   93863.75       127320.38  ...  141585.52              1               0\n",
            "13    1.0   91992.39       135495.07  ...  134307.35              0               0\n",
            "14    1.0  119943.24       156547.42  ...  132602.65              1               0\n",
            "15    1.0  114523.61       122616.84  ...  129917.04              0               1\n",
            "16    1.0   78013.11       121597.55  ...  126992.93              0               0\n",
            "17    1.0   94657.16       145077.58  ...  125370.37              0               1\n",
            "18    1.0   91749.16       114175.79  ...  124266.90              1               0\n",
            "19    1.0   86419.70       153514.11  ...  122776.86              0               1\n",
            "20    1.0   76253.86       113867.30  ...  118474.03              0               0\n",
            "21    1.0   78389.47       153773.43  ...  111313.02              0               1\n",
            "22    1.0   73994.56       122782.75  ...  110352.25              1               0\n",
            "23    1.0   67532.53       105751.03  ...  108733.99              1               0\n",
            "24    1.0   77044.01        99281.34  ...  108552.04              0               1\n",
            "25    1.0   64664.71       139553.16  ...  107404.34              0               0\n",
            "26    1.0   75328.87       144135.98  ...  105733.54              1               0\n",
            "27    1.0   72107.60       127864.55  ...  105008.31              0               1\n",
            "28    1.0   66051.52       182645.56  ...  103282.38              1               0\n",
            "29    1.0   65605.48       153032.06  ...  101004.64              0               1\n",
            "30    1.0   61994.48       115641.28  ...   99937.59              1               0\n",
            "31    1.0   61136.38       152701.92  ...   97483.56              0               1\n",
            "32    1.0   63408.86       129219.61  ...   97427.84              0               0\n",
            "33    1.0   55493.95       103057.49  ...   96778.92              1               0\n",
            "34    1.0   46426.07       157693.92  ...   96712.80              0               0\n",
            "35    1.0   46014.02        85047.44  ...   96479.51              0               1\n",
            "36    1.0   28663.76       127056.21  ...   90708.19              1               0\n",
            "37    1.0   44069.95        51283.14  ...   89949.14              0               0\n",
            "38    1.0   20229.59        65947.93  ...   81229.06              0               1\n",
            "39    1.0   38558.51        82982.09  ...   81005.76              0               0\n",
            "40    1.0   28754.33       118546.05  ...   78239.91              0               0\n",
            "41    1.0   27892.92        84710.77  ...   77798.83              1               0\n",
            "42    1.0   23640.93        96189.63  ...   71498.49              0               0\n",
            "43    1.0   15505.73       127382.30  ...   69758.98              0               1\n",
            "44    1.0   22177.74       154806.14  ...   65200.33              0               0\n",
            "45    1.0    1000.23       124153.04  ...   64926.08              0               1\n",
            "46    1.0    1315.46       115816.21  ...   49490.75              1               0\n",
            "47    1.0       0.00       135426.92  ...   42559.73              0               0\n",
            "48    1.0     542.05        51743.15  ...   35673.41              0               1\n",
            "49    1.0       0.00       116983.80  ...   14681.40              0               0\n",
            "\n",
            "[50 rows x 7 columns]\n"
          ]
        }
      ]
    },
    {
      "cell_type": "markdown",
      "metadata": {
        "id": "UtniJZ1lv2qt"
      },
      "source": [
        "6. Build the model on training set"
      ]
    },
    {
      "cell_type": "code",
      "metadata": {
        "colab": {
          "base_uri": "https://localhost:8080/",
          "height": 429
        },
        "id": "pff7wXu8vnD2",
        "outputId": "afaea2da-7cd8-42a8-9915-ede8d592837d"
      },
      "source": [
        "startups_mlr_model1 = sm.OLS(train_y,train_X).fit()\n",
        "startups_mlr_model1.summary2()"
      ],
      "execution_count": null,
      "outputs": [
        {
          "output_type": "execute_result",
          "data": {
            "text/html": [
              "<table class=\"simpletable\">\n",
              "<tr>\n",
              "        <td>Model:</td>               <td>OLS</td>         <td>Adj. R-squared:</td>      <td>1.000</td>  \n",
              "</tr>\n",
              "<tr>\n",
              "  <td>Dependent Variable:</td>      <td>Profit</td>             <td>AIC:</td>         <td>-1720.6705</td>\n",
              "</tr>\n",
              "<tr>\n",
              "         <td>Date:</td>        <td>2021-11-06 17:57</td>        <td>BIC:</td>         <td>-1708.8483</td>\n",
              "</tr>\n",
              "<tr>\n",
              "   <td>No. Observations:</td>         <td>40</td>          <td>Log-Likelihood:</td>     <td>867.34</td>  \n",
              "</tr>\n",
              "<tr>\n",
              "       <td>Df Model:</td>              <td>6</td>           <td>F-statistic:</td>      <td>1.102e+30</td>\n",
              "</tr>\n",
              "<tr>\n",
              "     <td>Df Residuals:</td>           <td>33</td>        <td>Prob (F-statistic):</td>    <td>0.00</td>   \n",
              "</tr>\n",
              "<tr>\n",
              "      <td>R-squared:</td>            <td>1.000</td>            <td>Scale:</td>        <td>1.0402e-20</td>\n",
              "</tr>\n",
              "</table>\n",
              "<table class=\"simpletable\">\n",
              "<tr>\n",
              "         <td></td>          <th>Coef.</th>  <th>Std.Err.</th>           <th>t</th>           <th>P>|t|</th> <th>[0.025</th>  <th>0.975]</th>\n",
              "</tr>\n",
              "<tr>\n",
              "  <th>const</th>           <td>-0.0000</td>  <td>0.0000</td>         <td>-0.0584</td>       <td>0.9538</td> <td>-0.0000</td> <td>0.0000</td>\n",
              "</tr>\n",
              "<tr>\n",
              "  <th>R&D Spend</th>       <td>-0.0000</td>  <td>0.0000</td>         <td>-0.0671</td>       <td>0.9469</td> <td>-0.0000</td> <td>0.0000</td>\n",
              "</tr>\n",
              "<tr>\n",
              "  <th>Administration</th>  <td>-0.0000</td>  <td>0.0000</td>         <td>-0.2512</td>       <td>0.8032</td> <td>-0.0000</td> <td>0.0000</td>\n",
              "</tr>\n",
              "<tr>\n",
              "  <th>Marketing Spend</th> <td>0.0000</td>   <td>0.0000</td>         <td>0.4100</td>        <td>0.6844</td> <td>-0.0000</td> <td>0.0000</td>\n",
              "</tr>\n",
              "<tr>\n",
              "  <th>Profit</th>          <td>1.0000</td>   <td>0.0000</td>  <td>545676362713275.0625</td> <td>0.0000</td> <td>1.0000</td>  <td>1.0000</td>\n",
              "</tr>\n",
              "<tr>\n",
              "  <th>State_Florida</th>   <td>0.0000</td>   <td>0.0000</td>         <td>0.0436</td>        <td>0.9655</td> <td>-0.0000</td> <td>0.0000</td>\n",
              "</tr>\n",
              "<tr>\n",
              "  <th>State_New York</th>  <td>-0.0000</td>  <td>0.0000</td>         <td>-0.0852</td>       <td>0.9326</td> <td>-0.0000</td> <td>0.0000</td>\n",
              "</tr>\n",
              "</table>\n",
              "<table class=\"simpletable\">\n",
              "<tr>\n",
              "     <td>Omnibus:</td>     <td>1.000</td>  <td>Durbin-Watson:</td>    <td>0.465</td> \n",
              "</tr>\n",
              "<tr>\n",
              "  <td>Prob(Omnibus):</td>  <td>0.607</td> <td>Jarque-Bera (JB):</td>  <td>0.860</td> \n",
              "</tr>\n",
              "<tr>\n",
              "       <td>Skew:</td>     <td>-0.344</td>     <td>Prob(JB):</td>      <td>0.650</td> \n",
              "</tr>\n",
              "<tr>\n",
              "     <td>Kurtosis:</td>    <td>2.793</td>  <td>Condition No.:</td>   <td>2307305</td>\n",
              "</tr>\n",
              "</table>"
            ],
            "text/plain": [
              "<class 'statsmodels.iolib.summary2.Summary'>\n",
              "\"\"\"\n",
              "                      Results: Ordinary least squares\n",
              "===========================================================================\n",
              "Model:                  OLS                Adj. R-squared:       1.000     \n",
              "Dependent Variable:     Profit             AIC:                  -1720.6705\n",
              "Date:                   2021-11-06 17:57   BIC:                  -1708.8483\n",
              "No. Observations:       40                 Log-Likelihood:       867.34    \n",
              "Df Model:               6                  F-statistic:          1.102e+30 \n",
              "Df Residuals:           33                 Prob (F-statistic):   0.00      \n",
              "R-squared:              1.000              Scale:                1.0402e-20\n",
              "---------------------------------------------------------------------------\n",
              "                 Coef.  Std.Err.          t           P>|t|   [0.025 0.975]\n",
              "---------------------------------------------------------------------------\n",
              "const           -0.0000   0.0000              -0.0584 0.9538 -0.0000 0.0000\n",
              "R&D Spend       -0.0000   0.0000              -0.0671 0.9469 -0.0000 0.0000\n",
              "Administration  -0.0000   0.0000              -0.2512 0.8032 -0.0000 0.0000\n",
              "Marketing Spend  0.0000   0.0000               0.4100 0.6844 -0.0000 0.0000\n",
              "Profit           1.0000   0.0000 545676362713275.0625 0.0000  1.0000 1.0000\n",
              "State_Florida    0.0000   0.0000               0.0436 0.9655 -0.0000 0.0000\n",
              "State_New York  -0.0000   0.0000              -0.0852 0.9326 -0.0000 0.0000\n",
              "---------------------------------------------------------------------------\n",
              "Omnibus:                 1.000           Durbin-Watson:             0.465  \n",
              "Prob(Omnibus):           0.607           Jarque-Bera (JB):          0.860  \n",
              "Skew:                    -0.344          Prob(JB):                  0.650  \n",
              "Kurtosis:                2.793           Condition No.:             2307305\n",
              "===========================================================================\n",
              "* The condition number is large (2e+06). This might indicate\n",
              "strong multicollinearity or other numerical problems.\n",
              "\"\"\""
            ]
          },
          "metadata": {},
          "execution_count": 8
        }
      ]
    },
    {
      "cell_type": "markdown",
      "metadata": {
        "id": "vVHgYfixwB2n"
      },
      "source": [
        "7. Validate this model on the test data. Find the regression parameters, r2_score and RMSE of this model1"
      ]
    },
    {
      "cell_type": "code",
      "metadata": {
        "colab": {
          "base_uri": "https://localhost:8080/"
        },
        "id": "YmwSZFJgv-AG",
        "outputId": "7e9da1f5-a2f7-4279-8a65-536f2c89ace9"
      },
      "source": [
        "from sklearn.metrics import r2_score, mean_squared_error\n",
        "import numpy as np\n",
        "\n",
        "pred_y = startups_mlr_model1.predict(test_X)\n",
        "print(\"The r2_score of the model is\", np.abs(r2_score(test_y, pred_y)))\n",
        "print(\"The RMSE of the trained model is\", np.sqrt(mean_squared_error(test_y, pred_y)))\n",
        "print(\"The model parameters are\")\n",
        "print(startups_mlr_model1.params)"
      ],
      "execution_count": null,
      "outputs": [
        {
          "output_type": "stream",
          "name": "stdout",
          "text": [
            "The r2_score of the model is 1.0\n",
            "The RMSE of the trained model is 9.586609138641857e-11\n",
            "The model parameters are\n",
            "const             -7.275958e-12\n",
            "R&D Spend         -1.110223e-16\n",
            "Administration    -1.665335e-16\n",
            "Marketing Spend    8.326673e-17\n",
            "Profit             1.000000e+00\n",
            "State_Florida      1.818989e-12\n",
            "State_New York    -3.637979e-12\n",
            "dtype: float64\n"
          ]
        }
      ]
    },
    {
      "cell_type": "code",
      "metadata": {
        "id": "Ju_MrP_xwSG1"
      },
      "source": [],
      "execution_count": null,
      "outputs": []
    }
  ]
}